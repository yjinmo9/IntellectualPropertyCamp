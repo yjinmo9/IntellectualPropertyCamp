{
 "cells": [
  {
   "cell_type": "code",
   "execution_count": 290,
   "id": "ba34fd29",
   "metadata": {},
   "outputs": [
    {
     "name": "stdout",
     "output_type": "stream",
     "text": [
      "Requirement already satisfied: matplotlib in c:\\users\\arroy\\anaconda3\\lib\\site-packages (3.5.2)\n",
      "Requirement already satisfied: seaborn in c:\\users\\arroy\\anaconda3\\lib\\site-packages (0.11.2)\n",
      "Requirement already satisfied: pyparsing>=2.2.1 in c:\\users\\arroy\\anaconda3\\lib\\site-packages (from matplotlib) (3.0.9)\n",
      "Requirement already satisfied: numpy>=1.17 in c:\\users\\arroy\\anaconda3\\lib\\site-packages (from matplotlib) (1.24.4)\n",
      "Requirement already satisfied: python-dateutil>=2.7 in c:\\users\\arroy\\anaconda3\\lib\\site-packages (from matplotlib) (2.8.2)\n",
      "Requirement already satisfied: fonttools>=4.22.0 in c:\\users\\arroy\\anaconda3\\lib\\site-packages (from matplotlib) (4.25.0)\n",
      "Requirement already satisfied: packaging>=20.0 in c:\\users\\arroy\\anaconda3\\lib\\site-packages (from matplotlib) (21.3)\n",
      "Requirement already satisfied: cycler>=0.10 in c:\\users\\arroy\\anaconda3\\lib\\site-packages (from matplotlib) (0.11.0)\n",
      "Requirement already satisfied: pillow>=6.2.0 in c:\\users\\arroy\\anaconda3\\lib\\site-packages (from matplotlib) (9.2.0)\n",
      "Requirement already satisfied: kiwisolver>=1.0.1 in c:\\users\\arroy\\anaconda3\\lib\\site-packages (from matplotlib) (1.4.2)\n",
      "Requirement already satisfied: pandas>=0.23 in c:\\users\\arroy\\anaconda3\\lib\\site-packages (from seaborn) (2.1.4)\n",
      "Requirement already satisfied: scipy>=1.0 in c:\\users\\arroy\\anaconda3\\lib\\site-packages (from seaborn) (1.9.1)\n",
      "Requirement already satisfied: tzdata>=2022.1 in c:\\users\\arroy\\anaconda3\\lib\\site-packages (from pandas>=0.23->seaborn) (2023.4)\n",
      "Requirement already satisfied: pytz>=2020.1 in c:\\users\\arroy\\anaconda3\\lib\\site-packages (from pandas>=0.23->seaborn) (2022.1)\n",
      "Requirement already satisfied: six>=1.5 in c:\\users\\arroy\\anaconda3\\lib\\site-packages (from python-dateutil>=2.7->matplotlib) (1.16.0)\n",
      "Note: you may need to restart the kernel to use updated packages.\n"
     ]
    }
   ],
   "source": [
    "pip install matplotlib seaborn"
   ]
  },
  {
   "cell_type": "code",
   "execution_count": 291,
   "id": "a778bd61",
   "metadata": {},
   "outputs": [],
   "source": [
    "import pandas as pd\n",
    "from sklearn.feature_extraction.text import TfidfVectorizer\n",
    "from sklearn.decomposition import LatentDirichletAllocation\n",
    "from sklearn.pipeline import make_pipeline\n",
    "import os\n",
    "import re\n",
    "import numpy as np\n",
    "import matplotlib.pyplot as plt\n",
    "import seaborn as sns"
   ]
  },
  {
   "cell_type": "code",
   "execution_count": 292,
   "id": "c82c9706",
   "metadata": {},
   "outputs": [],
   "source": [
    "folder_path = \"C:/Users/arroy/OneDrive/바탕 화면/2024/지식재산캠프/물류_논문_프로세스CHECK\"  # 현재 디렉토리를 사용하려면 폴더 경로를 \".\"으로 설정\n",
    "xlsx_files = [file for file in os.listdir(folder_path) if file.endswith(\".xlsx\")]\n",
    "\n",
    "dfs = []\n",
    "for file in xlsx_files:\n",
    "    file_path = os.path.join(folder_path, file)\n",
    "    df = pd.read_excel(file_path)\n",
    "    dfs.append(df)\n",
    "\n",
    "# 하나의 데이터프레임으로 병합\n",
    "data = pd.concat(dfs, ignore_index=True)\n",
    "\n",
    "data = pd.DataFrame(data)\n",
    "data = data[['Abstract', 'Publication Year']]"
   ]
  },
  {
   "cell_type": "code",
   "execution_count": 293,
   "id": "34dacd83",
   "metadata": {},
   "outputs": [
    {
     "data": {
      "text/html": [
       "<div>\n",
       "<style scoped>\n",
       "    .dataframe tbody tr th:only-of-type {\n",
       "        vertical-align: middle;\n",
       "    }\n",
       "\n",
       "    .dataframe tbody tr th {\n",
       "        vertical-align: top;\n",
       "    }\n",
       "\n",
       "    .dataframe thead th {\n",
       "        text-align: right;\n",
       "    }\n",
       "</style>\n",
       "<table border=\"1\" class=\"dataframe\">\n",
       "  <thead>\n",
       "    <tr style=\"text-align: right;\">\n",
       "      <th></th>\n",
       "      <th>Abstract</th>\n",
       "      <th>Publication Year</th>\n",
       "    </tr>\n",
       "  </thead>\n",
       "  <tbody>\n",
       "    <tr>\n",
       "      <th>0</th>\n",
       "      <td>The aim of the paper is to analyze the influen...</td>\n",
       "      <td>2015.0</td>\n",
       "    </tr>\n",
       "    <tr>\n",
       "      <th>1</th>\n",
       "      <td>Nowadays, main participants in international c...</td>\n",
       "      <td>2012.0</td>\n",
       "    </tr>\n",
       "    <tr>\n",
       "      <th>2</th>\n",
       "      <td>Inspired by the theme of the World Customs Org...</td>\n",
       "      <td>2020.0</td>\n",
       "    </tr>\n",
       "    <tr>\n",
       "      <th>3</th>\n",
       "      <td>Transnational security governance initiatives ...</td>\n",
       "      <td>2016.0</td>\n",
       "    </tr>\n",
       "    <tr>\n",
       "      <th>4</th>\n",
       "      <td>Purpose - To investigate the practices and val...</td>\n",
       "      <td>2006.0</td>\n",
       "    </tr>\n",
       "    <tr>\n",
       "      <th>...</th>\n",
       "      <td>...</td>\n",
       "      <td>...</td>\n",
       "    </tr>\n",
       "    <tr>\n",
       "      <th>3260</th>\n",
       "      <td>As the third party logistics partners ( carrie...</td>\n",
       "      <td>2006.0</td>\n",
       "    </tr>\n",
       "    <tr>\n",
       "      <th>3261</th>\n",
       "      <td>The location of collection and delivery points...</td>\n",
       "      <td>2021.0</td>\n",
       "    </tr>\n",
       "    <tr>\n",
       "      <th>3262</th>\n",
       "      <td>The fast development of transport activities a...</td>\n",
       "      <td>2004.0</td>\n",
       "    </tr>\n",
       "    <tr>\n",
       "      <th>3263</th>\n",
       "      <td>Purpose While the understanding of customer sa...</td>\n",
       "      <td>2021.0</td>\n",
       "    </tr>\n",
       "    <tr>\n",
       "      <th>3264</th>\n",
       "      <td>This study examines German online grocery reta...</td>\n",
       "      <td>2020.0</td>\n",
       "    </tr>\n",
       "  </tbody>\n",
       "</table>\n",
       "<p>3265 rows × 2 columns</p>\n",
       "</div>"
      ],
      "text/plain": [
       "                                               Abstract  Publication Year\n",
       "0     The aim of the paper is to analyze the influen...            2015.0\n",
       "1     Nowadays, main participants in international c...            2012.0\n",
       "2     Inspired by the theme of the World Customs Org...            2020.0\n",
       "3     Transnational security governance initiatives ...            2016.0\n",
       "4     Purpose - To investigate the practices and val...            2006.0\n",
       "...                                                 ...               ...\n",
       "3260  As the third party logistics partners ( carrie...            2006.0\n",
       "3261  The location of collection and delivery points...            2021.0\n",
       "3262  The fast development of transport activities a...            2004.0\n",
       "3263  Purpose While the understanding of customer sa...            2021.0\n",
       "3264  This study examines German online grocery reta...            2020.0\n",
       "\n",
       "[3265 rows x 2 columns]"
      ]
     },
     "execution_count": 293,
     "metadata": {},
     "output_type": "execute_result"
    }
   ],
   "source": [
    "data"
   ]
  },
  {
   "cell_type": "code",
   "execution_count": 294,
   "id": "017cd70a",
   "metadata": {},
   "outputs": [],
   "source": [
    "data['Abstract'] = data['Abstract'].fillna('')"
   ]
  },
  {
   "cell_type": "code",
   "execution_count": 295,
   "id": "1d6ef852",
   "metadata": {},
   "outputs": [],
   "source": [
    "def remove_non_alphanumeric(text):\n",
    "    if isinstance(text, str):  # text가 문자열인지 확인\n",
    "        return re.sub(r'[^a-zA-Z\\s]', '', text)\n",
    "    else:\n",
    "        return ''"
   ]
  },
  {
   "cell_type": "code",
   "execution_count": 296,
   "id": "614f1d5f",
   "metadata": {},
   "outputs": [],
   "source": [
    "data['Abstract'] = data['Abstract'].apply(remove_non_alphanumeric)"
   ]
  },
  {
   "cell_type": "code",
   "execution_count": 297,
   "id": "3d8f449e",
   "metadata": {},
   "outputs": [],
   "source": [
    "text = data[['Abstract']]"
   ]
  },
  {
   "cell_type": "code",
   "execution_count": 298,
   "id": "0bd25918",
   "metadata": {},
   "outputs": [
    {
     "name": "stdout",
     "output_type": "stream",
     "text": [
      "Requirement already satisfied: nltk in c:\\users\\arroy\\anaconda3\\lib\\site-packages (3.7)\n",
      "Requirement already satisfied: tqdm in c:\\users\\arroy\\anaconda3\\lib\\site-packages (from nltk) (4.64.1)\n",
      "Requirement already satisfied: click in c:\\users\\arroy\\anaconda3\\lib\\site-packages (from nltk) (8.0.4)\n",
      "Requirement already satisfied: regex>=2021.8.3 in c:\\users\\arroy\\anaconda3\\lib\\site-packages (from nltk) (2022.7.9)\n",
      "Requirement already satisfied: joblib in c:\\users\\arroy\\anaconda3\\lib\\site-packages (from nltk) (1.1.0)\n",
      "Requirement already satisfied: colorama in c:\\users\\arroy\\anaconda3\\lib\\site-packages (from click->nltk) (0.4.5)\n",
      "Note: you may need to restart the kernel to use updated packages.\n"
     ]
    }
   ],
   "source": [
    "pip install nltk"
   ]
  },
  {
   "cell_type": "code",
   "execution_count": 299,
   "id": "f6c4f61b",
   "metadata": {},
   "outputs": [
    {
     "name": "stderr",
     "output_type": "stream",
     "text": [
      "C:\\Users\\arroy\\AppData\\Local\\Temp\\ipykernel_28180\\3624090061.py:2: SettingWithCopyWarning: \n",
      "A value is trying to be set on a copy of a slice from a DataFrame.\n",
      "Try using .loc[row_indexer,col_indexer] = value instead\n",
      "\n",
      "See the caveats in the documentation: https://pandas.pydata.org/pandas-docs/stable/user_guide/indexing.html#returning-a-view-versus-a-copy\n",
      "  text['Abstract'] = text.apply(lambda row: nltk.word_tokenize(row['Abstract']), axis=1)\n"
     ]
    }
   ],
   "source": [
    "import nltk\n",
    "text['Abstract'] = text.apply(lambda row: nltk.word_tokenize(row['Abstract']), axis=1)"
   ]
  },
  {
   "cell_type": "code",
   "execution_count": 300,
   "id": "f7a7a351",
   "metadata": {},
   "outputs": [
    {
     "name": "stderr",
     "output_type": "stream",
     "text": [
      "[nltk_data] Downloading package stopwords to\n",
      "[nltk_data]     C:\\Users\\arroy\\AppData\\Roaming\\nltk_data...\n",
      "[nltk_data]   Package stopwords is already up-to-date!\n",
      "C:\\Users\\arroy\\AppData\\Local\\Temp\\ipykernel_28180\\2522911266.py:4: SettingWithCopyWarning: \n",
      "A value is trying to be set on a copy of a slice from a DataFrame.\n",
      "Try using .loc[row_indexer,col_indexer] = value instead\n",
      "\n",
      "See the caveats in the documentation: https://pandas.pydata.org/pandas-docs/stable/user_guide/indexing.html#returning-a-view-versus-a-copy\n",
      "  text['Abstract'] = text['Abstract'].apply(lambda x: [word for word in x if word not in (stop)])\n"
     ]
    }
   ],
   "source": [
    "nltk.download('stopwords')\n",
    "from nltk.corpus import stopwords\n",
    "stop = stopwords.words('english')\n",
    "text['Abstract'] = text['Abstract'].apply(lambda x: [word for word in x if word not in (stop)])"
   ]
  },
  {
   "cell_type": "code",
   "execution_count": 301,
   "id": "1a68c22d",
   "metadata": {},
   "outputs": [
    {
     "name": "stderr",
     "output_type": "stream",
     "text": [
      "[nltk_data] Downloading package wordnet to\n",
      "[nltk_data]     C:\\Users\\arroy\\AppData\\Roaming\\nltk_data...\n",
      "[nltk_data]   Package wordnet is already up-to-date!\n",
      "[nltk_data] Downloading package omw-1.4 to\n",
      "[nltk_data]     C:\\Users\\arroy\\AppData\\Roaming\\nltk_data...\n",
      "[nltk_data]   Package omw-1.4 is already up-to-date!\n"
     ]
    },
    {
     "data": {
      "text/plain": [
       "True"
      ]
     },
     "execution_count": 301,
     "metadata": {},
     "output_type": "execute_result"
    }
   ],
   "source": [
    "from nltk.stem import WordNetLemmatizer\n",
    "nltk.download('wordnet')\n",
    "nltk.download('omw-1.4')"
   ]
  },
  {
   "cell_type": "code",
   "execution_count": 302,
   "id": "c65ecb2b",
   "metadata": {},
   "outputs": [
    {
     "name": "stderr",
     "output_type": "stream",
     "text": [
      "C:\\Users\\arroy\\AppData\\Local\\Temp\\ipykernel_28180\\1860500123.py:2: SettingWithCopyWarning: \n",
      "A value is trying to be set on a copy of a slice from a DataFrame.\n",
      "Try using .loc[row_indexer,col_indexer] = value instead\n",
      "\n",
      "See the caveats in the documentation: https://pandas.pydata.org/pandas-docs/stable/user_guide/indexing.html#returning-a-view-versus-a-copy\n",
      "  text['Abstract'] = text['Abstract'].apply(lambda x : [WordNetLemmatizer().lemmatize(word, pos='v') for word in x])\n"
     ]
    },
    {
     "data": {
      "text/html": [
       "<div>\n",
       "<style scoped>\n",
       "    .dataframe tbody tr th:only-of-type {\n",
       "        vertical-align: middle;\n",
       "    }\n",
       "\n",
       "    .dataframe tbody tr th {\n",
       "        vertical-align: top;\n",
       "    }\n",
       "\n",
       "    .dataframe thead th {\n",
       "        text-align: right;\n",
       "    }\n",
       "</style>\n",
       "<table border=\"1\" class=\"dataframe\">\n",
       "  <thead>\n",
       "    <tr style=\"text-align: right;\">\n",
       "      <th></th>\n",
       "      <th>Abstract</th>\n",
       "    </tr>\n",
       "  </thead>\n",
       "  <tbody>\n",
       "    <tr>\n",
       "      <th>0</th>\n",
       "      <td>[The, aim, paper, analyze, influence, safety, ...</td>\n",
       "    </tr>\n",
       "    <tr>\n",
       "      <th>1</th>\n",
       "      <td>[Nowadays, main, participants, international, ...</td>\n",
       "    </tr>\n",
       "    <tr>\n",
       "      <th>2</th>\n",
       "      <td>[Inspired, theme, World, Customs, Organization...</td>\n",
       "    </tr>\n",
       "    <tr>\n",
       "      <th>3</th>\n",
       "      <td>[Transnational, security, governance, initiati...</td>\n",
       "    </tr>\n",
       "    <tr>\n",
       "      <th>4</th>\n",
       "      <td>[Purpose, To, investigate, practice, value, vo...</td>\n",
       "    </tr>\n",
       "  </tbody>\n",
       "</table>\n",
       "</div>"
      ],
      "text/plain": [
       "                                            Abstract\n",
       "0  [The, aim, paper, analyze, influence, safety, ...\n",
       "1  [Nowadays, main, participants, international, ...\n",
       "2  [Inspired, theme, World, Customs, Organization...\n",
       "3  [Transnational, security, governance, initiati...\n",
       "4  [Purpose, To, investigate, practice, value, vo..."
      ]
     },
     "execution_count": 302,
     "metadata": {},
     "output_type": "execute_result"
    }
   ],
   "source": [
    "from nltk.stem import WordNetLemmatizer\n",
    "text['Abstract'] = text['Abstract'].apply(lambda x : [WordNetLemmatizer().lemmatize(word, pos='v') for word in x])\n",
    "text.head()"
   ]
  },
  {
   "cell_type": "code",
   "execution_count": 303,
   "id": "022fd0ac",
   "metadata": {},
   "outputs": [
    {
     "data": {
      "text/plain": [
       "0    [paper, analyze, influence, safety, standards,...\n",
       "1    [Nowadays, main, participants, international, ...\n",
       "2    [Inspired, theme, World, Customs, Organization...\n",
       "3    [Transnational, security, governance, initiati...\n",
       "4    [Purpose, investigate, practice, value, volunt...\n",
       "Name: Abstract, dtype: object"
      ]
     },
     "execution_count": 303,
     "metadata": {},
     "output_type": "execute_result"
    }
   ],
   "source": [
    "tokenized_doc = text['Abstract'].apply(lambda x : [word for word in x if len(word) > 3])\n",
    "tokenized_doc[:5]"
   ]
  },
  {
   "cell_type": "code",
   "execution_count": 304,
   "id": "04401e75",
   "metadata": {},
   "outputs": [
    {
     "name": "stderr",
     "output_type": "stream",
     "text": [
      "C:\\Users\\arroy\\AppData\\Local\\Temp\\ipykernel_28180\\1446585966.py:5: SettingWithCopyWarning: \n",
      "A value is trying to be set on a copy of a slice from a DataFrame.\n",
      "Try using .loc[row_indexer,col_indexer] = value instead\n",
      "\n",
      "See the caveats in the documentation: https://pandas.pydata.org/pandas-docs/stable/user_guide/indexing.html#returning-a-view-versus-a-copy\n",
      "  text['Abstract'] = detokenized_doc\n"
     ]
    },
    {
     "data": {
      "text/html": [
       "<div>\n",
       "<style scoped>\n",
       "    .dataframe tbody tr th:only-of-type {\n",
       "        vertical-align: middle;\n",
       "    }\n",
       "\n",
       "    .dataframe tbody tr th {\n",
       "        vertical-align: top;\n",
       "    }\n",
       "\n",
       "    .dataframe thead th {\n",
       "        text-align: right;\n",
       "    }\n",
       "</style>\n",
       "<table border=\"1\" class=\"dataframe\">\n",
       "  <thead>\n",
       "    <tr style=\"text-align: right;\">\n",
       "      <th></th>\n",
       "      <th>Abstract</th>\n",
       "    </tr>\n",
       "  </thead>\n",
       "  <tbody>\n",
       "    <tr>\n",
       "      <th>0</th>\n",
       "      <td>paper analyze influence safety standards inter...</td>\n",
       "    </tr>\n",
       "    <tr>\n",
       "      <th>1</th>\n",
       "      <td>Nowadays main participants international conta...</td>\n",
       "    </tr>\n",
       "    <tr>\n",
       "      <th>2</th>\n",
       "      <td>Inspired theme World Customs Organization conc...</td>\n",
       "    </tr>\n",
       "    <tr>\n",
       "      <th>3</th>\n",
       "      <td>Transnational security governance initiatives ...</td>\n",
       "    </tr>\n",
       "    <tr>\n",
       "      <th>4</th>\n",
       "      <td>Purpose investigate practice value voluntary l...</td>\n",
       "    </tr>\n",
       "  </tbody>\n",
       "</table>\n",
       "</div>"
      ],
      "text/plain": [
       "                                            Abstract\n",
       "0  paper analyze influence safety standards inter...\n",
       "1  Nowadays main participants international conta...\n",
       "2  Inspired theme World Customs Organization conc...\n",
       "3  Transnational security governance initiatives ...\n",
       "4  Purpose investigate practice value voluntary l..."
      ]
     },
     "execution_count": 304,
     "metadata": {},
     "output_type": "execute_result"
    }
   ],
   "source": [
    "detokenized_doc = []\n",
    "for i in range(len(text)):\n",
    "    t = ' '.join(tokenized_doc[i])\n",
    "    detokenized_doc.append(t)\n",
    "text['Abstract'] = detokenized_doc\n",
    "# 다시 text['headline_text'] 에 저장\n",
    "text.head()"
   ]
  },
  {
   "cell_type": "code",
   "execution_count": 305,
   "id": "ffc28dfc",
   "metadata": {},
   "outputs": [],
   "source": [
    "data['Abstract'] = text['Abstract']"
   ]
  },
  {
   "cell_type": "code",
   "execution_count": 311,
   "id": "0858b47b",
   "metadata": {},
   "outputs": [],
   "source": [
    "# 텍스트 데이터 전처리 및 LDA 모델링\n",
    "vectorizer = TfidfVectorizer()\n",
    "lda = LatentDirichletAllocation(n_components=4, random_state=42)\n",
    "pipe = make_pipeline(vectorizer, lda)"
   ]
  },
  {
   "cell_type": "code",
   "execution_count": 312,
   "id": "ceab123e",
   "metadata": {},
   "outputs": [
    {
     "name": "stdout",
     "output_type": "stream",
     "text": [
      "0\n"
     ]
    }
   ],
   "source": [
    "# 결측치 확인\n",
    "print(data['Abstract'].isnull().sum())\n",
    "\n",
    "# 결측치 처리 (예시: 빈 문자열로 대체)\n",
    "data['Abstract'].fillna('', inplace=True)"
   ]
  },
  {
   "cell_type": "code",
   "execution_count": 313,
   "id": "7556c8d3",
   "metadata": {},
   "outputs": [],
   "source": [
    "# 데이터에 대한 전처리 및 모델 학습\n",
    "processed_texts = data['Abstract']"
   ]
  },
  {
   "cell_type": "code",
   "execution_count": 314,
   "id": "087d0128",
   "metadata": {},
   "outputs": [],
   "source": [
    "topic_weights = pipe.fit_transform(processed_texts)"
   ]
  },
  {
   "cell_type": "code",
   "execution_count": 315,
   "id": "dd89321c",
   "metadata": {},
   "outputs": [],
   "source": [
    "# 토픽 결과를 데이터프레임에 추가\n",
    "df_topics = pd.DataFrame(topic_weights, columns=[f'Topic_{i+1}' for i in range(4)])"
   ]
  },
  {
   "cell_type": "code",
   "execution_count": 320,
   "id": "b2c1d393",
   "metadata": {},
   "outputs": [],
   "source": [
    "# 작성 년도 컬럼과 토픽 결과 데이터프레임을 합치기\n",
    "df_combined = pd.concat([df[['Publication Year']], df_topics], axis=1)\n",
    "\n",
    "# 각 토픽의 연도별 주목도 계산\n",
    "topic_occurrence_by_year = df_combined.groupby('Publication Year').sum()"
   ]
  },
  {
   "cell_type": "code",
   "execution_count": 321,
   "id": "7aa943b0",
   "metadata": {},
   "outputs": [
    {
     "name": "stdout",
     "output_type": "stream",
     "text": [
      "Topic 1의 주요 키워드: ['lateness', 'logifit', 'suburbanization', 'dmsfsc', 'papaya']\n",
      "Topic 2의 주요 키워드: ['model', 'logistics', 'chain', 'supply', 'cost']\n",
      "Topic 3의 주요 키워드: ['portcentric', 'derivatives', 'lognet', 'checkin', 'zara']\n",
      "Topic 4의 주요 키워드: ['wdcs', 'cartons', 'cstores', 'beverages', 'mrlrp']\n"
     ]
    }
   ],
   "source": [
    "# 각 토픽에서의 주요 키워드 출력\n",
    "feature_names = vectorizer.get_feature_names_out()\n",
    "for i, topic_weights in enumerate(lda.components_):\n",
    "    top_keywords_idx = topic_weights.argsort()[:-6:-1]  # 상위 n개의 인덱스\n",
    "    top_keywords = [feature_names[idx] for idx in top_keywords_idx]\n",
    "    print(f'Topic {i+1}의 주요 키워드: {top_keywords}')"
   ]
  },
  {
   "cell_type": "code",
   "execution_count": 322,
   "id": "1ee3b9f2",
   "metadata": {
    "scrolled": false
   },
   "outputs": [
    {
     "name": "stdout",
     "output_type": "stream",
     "text": [
      "각 토픽의 연도별 주목도:\n"
     ]
    },
    {
     "data": {
      "text/html": [
       "<div>\n",
       "<style scoped>\n",
       "    .dataframe tbody tr th:only-of-type {\n",
       "        vertical-align: middle;\n",
       "    }\n",
       "\n",
       "    .dataframe tbody tr th {\n",
       "        vertical-align: top;\n",
       "    }\n",
       "\n",
       "    .dataframe thead th {\n",
       "        text-align: right;\n",
       "    }\n",
       "</style>\n",
       "<table border=\"1\" class=\"dataframe\">\n",
       "  <thead>\n",
       "    <tr style=\"text-align: right;\">\n",
       "      <th></th>\n",
       "      <th>Topic_1</th>\n",
       "      <th>Topic_2</th>\n",
       "      <th>Topic_3</th>\n",
       "      <th>Topic_4</th>\n",
       "    </tr>\n",
       "    <tr>\n",
       "      <th>Publication Year</th>\n",
       "      <th></th>\n",
       "      <th></th>\n",
       "      <th></th>\n",
       "      <th></th>\n",
       "    </tr>\n",
       "  </thead>\n",
       "  <tbody>\n",
       "    <tr>\n",
       "      <th>1997.0</th>\n",
       "      <td>0.032457</td>\n",
       "      <td>0.902620</td>\n",
       "      <td>0.032456</td>\n",
       "      <td>0.032467</td>\n",
       "    </tr>\n",
       "    <tr>\n",
       "      <th>1998.0</th>\n",
       "      <td>0.057808</td>\n",
       "      <td>1.826561</td>\n",
       "      <td>0.057808</td>\n",
       "      <td>0.057823</td>\n",
       "    </tr>\n",
       "    <tr>\n",
       "      <th>2001.0</th>\n",
       "      <td>0.032216</td>\n",
       "      <td>0.903339</td>\n",
       "      <td>0.032219</td>\n",
       "      <td>0.032225</td>\n",
       "    </tr>\n",
       "    <tr>\n",
       "      <th>2002.0</th>\n",
       "      <td>0.026480</td>\n",
       "      <td>0.920556</td>\n",
       "      <td>0.026481</td>\n",
       "      <td>0.026484</td>\n",
       "    </tr>\n",
       "    <tr>\n",
       "      <th>2004.0</th>\n",
       "      <td>0.055582</td>\n",
       "      <td>1.833247</td>\n",
       "      <td>0.055584</td>\n",
       "      <td>0.055587</td>\n",
       "    </tr>\n",
       "    <tr>\n",
       "      <th>2005.0</th>\n",
       "      <td>0.037975</td>\n",
       "      <td>0.885934</td>\n",
       "      <td>0.037976</td>\n",
       "      <td>0.038115</td>\n",
       "    </tr>\n",
       "    <tr>\n",
       "      <th>2006.0</th>\n",
       "      <td>0.033751</td>\n",
       "      <td>0.898764</td>\n",
       "      <td>0.033741</td>\n",
       "      <td>0.033744</td>\n",
       "    </tr>\n",
       "    <tr>\n",
       "      <th>2008.0</th>\n",
       "      <td>0.195915</td>\n",
       "      <td>0.736796</td>\n",
       "      <td>0.033640</td>\n",
       "      <td>0.033649</td>\n",
       "    </tr>\n",
       "    <tr>\n",
       "      <th>2009.0</th>\n",
       "      <td>0.030654</td>\n",
       "      <td>0.908036</td>\n",
       "      <td>0.030654</td>\n",
       "      <td>0.030655</td>\n",
       "    </tr>\n",
       "    <tr>\n",
       "      <th>2010.0</th>\n",
       "      <td>0.098985</td>\n",
       "      <td>2.703050</td>\n",
       "      <td>0.098981</td>\n",
       "      <td>0.098985</td>\n",
       "    </tr>\n",
       "    <tr>\n",
       "      <th>2011.0</th>\n",
       "      <td>0.027051</td>\n",
       "      <td>0.918877</td>\n",
       "      <td>0.027035</td>\n",
       "      <td>0.027037</td>\n",
       "    </tr>\n",
       "    <tr>\n",
       "      <th>2012.0</th>\n",
       "      <td>0.354240</td>\n",
       "      <td>5.282140</td>\n",
       "      <td>0.181848</td>\n",
       "      <td>0.181771</td>\n",
       "    </tr>\n",
       "    <tr>\n",
       "      <th>2013.0</th>\n",
       "      <td>0.061856</td>\n",
       "      <td>1.814430</td>\n",
       "      <td>0.061856</td>\n",
       "      <td>0.061858</td>\n",
       "    </tr>\n",
       "    <tr>\n",
       "      <th>2014.0</th>\n",
       "      <td>0.053329</td>\n",
       "      <td>1.840009</td>\n",
       "      <td>0.053330</td>\n",
       "      <td>0.053333</td>\n",
       "    </tr>\n",
       "    <tr>\n",
       "      <th>2015.0</th>\n",
       "      <td>0.096690</td>\n",
       "      <td>2.709835</td>\n",
       "      <td>0.096710</td>\n",
       "      <td>0.096765</td>\n",
       "    </tr>\n",
       "    <tr>\n",
       "      <th>2016.0</th>\n",
       "      <td>0.132535</td>\n",
       "      <td>4.602404</td>\n",
       "      <td>0.132522</td>\n",
       "      <td>0.132540</td>\n",
       "    </tr>\n",
       "    <tr>\n",
       "      <th>2017.0</th>\n",
       "      <td>0.398506</td>\n",
       "      <td>4.317160</td>\n",
       "      <td>0.142206</td>\n",
       "      <td>0.142128</td>\n",
       "    </tr>\n",
       "    <tr>\n",
       "      <th>2018.0</th>\n",
       "      <td>0.538142</td>\n",
       "      <td>6.722040</td>\n",
       "      <td>0.480862</td>\n",
       "      <td>0.258955</td>\n",
       "    </tr>\n",
       "    <tr>\n",
       "      <th>2019.0</th>\n",
       "      <td>0.305886</td>\n",
       "      <td>8.835308</td>\n",
       "      <td>0.305941</td>\n",
       "      <td>0.552865</td>\n",
       "    </tr>\n",
       "    <tr>\n",
       "      <th>2020.0</th>\n",
       "      <td>0.577019</td>\n",
       "      <td>7.844333</td>\n",
       "      <td>0.289254</td>\n",
       "      <td>0.289394</td>\n",
       "    </tr>\n",
       "    <tr>\n",
       "      <th>2021.0</th>\n",
       "      <td>0.170971</td>\n",
       "      <td>4.487058</td>\n",
       "      <td>0.170976</td>\n",
       "      <td>0.170994</td>\n",
       "    </tr>\n",
       "  </tbody>\n",
       "</table>\n",
       "</div>"
      ],
      "text/plain": [
       "                   Topic_1   Topic_2   Topic_3   Topic_4\n",
       "Publication Year                                        \n",
       "1997.0            0.032457  0.902620  0.032456  0.032467\n",
       "1998.0            0.057808  1.826561  0.057808  0.057823\n",
       "2001.0            0.032216  0.903339  0.032219  0.032225\n",
       "2002.0            0.026480  0.920556  0.026481  0.026484\n",
       "2004.0            0.055582  1.833247  0.055584  0.055587\n",
       "2005.0            0.037975  0.885934  0.037976  0.038115\n",
       "2006.0            0.033751  0.898764  0.033741  0.033744\n",
       "2008.0            0.195915  0.736796  0.033640  0.033649\n",
       "2009.0            0.030654  0.908036  0.030654  0.030655\n",
       "2010.0            0.098985  2.703050  0.098981  0.098985\n",
       "2011.0            0.027051  0.918877  0.027035  0.027037\n",
       "2012.0            0.354240  5.282140  0.181848  0.181771\n",
       "2013.0            0.061856  1.814430  0.061856  0.061858\n",
       "2014.0            0.053329  1.840009  0.053330  0.053333\n",
       "2015.0            0.096690  2.709835  0.096710  0.096765\n",
       "2016.0            0.132535  4.602404  0.132522  0.132540\n",
       "2017.0            0.398506  4.317160  0.142206  0.142128\n",
       "2018.0            0.538142  6.722040  0.480862  0.258955\n",
       "2019.0            0.305886  8.835308  0.305941  0.552865\n",
       "2020.0            0.577019  7.844333  0.289254  0.289394\n",
       "2021.0            0.170971  4.487058  0.170976  0.170994"
      ]
     },
     "execution_count": 322,
     "metadata": {},
     "output_type": "execute_result"
    }
   ],
   "source": [
    "# 결과 확인\n",
    "print(\"각 토픽의 연도별 주목도:\")\n",
    "topic_occurrence_by_year"
   ]
  },
  {
   "cell_type": "code",
   "execution_count": 323,
   "id": "eb0e4f0c",
   "metadata": {},
   "outputs": [
    {
     "data": {
      "text/plain": [
       "<AxesSubplot:xlabel='Publication Year', ylabel='Topic_1'>"
      ]
     },
     "execution_count": 323,
     "metadata": {},
     "output_type": "execute_result"
    },
    {
     "data": {
      "image/png": "[encoded data removed]",
      "text/plain": [
       "<Figure size 1200x600 with 1 Axes>"
      ]
     },
     "metadata": {},
     "output_type": "display_data"
    }
   ],
   "source": [
    "sns.set(style=\"whitegrid\")\n",
    "plt.figure(figsize=(12, 6))\n",
    "sns.barplot(x=topic_occurrence_by_year.index, y=topic_occurrence_by_year['Topic_1'], color='blue', label='Topic 1')"
   ]
  },
  {
   "cell_type": "code",
   "execution_count": 324,
   "id": "13f2dfe7",
   "metadata": {},
   "outputs": [
    {
     "data": {
      "text/plain": [
       "<AxesSubplot:xlabel='Publication Year', ylabel='Topic_2'>"
      ]
     },
     "execution_count": 324,
     "metadata": {},
     "output_type": "execute_result"
    },
    {
     "data": {
      "image/png": "[encoded data removed]",
      "text/plain": [
       "<Figure size 640x480 with 1 Axes>"
      ]
     },
     "metadata": {},
     "output_type": "display_data"
    }
   ],
   "source": [
    "sns.barplot(x=topic_occurrence_by_year.index, y=topic_occurrence_by_year['Topic_2'], color='orange', label='Topic 2')"
   ]
  },
  {
   "cell_type": "code",
   "execution_count": 325,
   "id": "4e9f5bf1",
   "metadata": {},
   "outputs": [
    {
     "data": {
      "text/plain": [
       "<AxesSubplot:xlabel='Publication Year', ylabel='Topic_3'>"
      ]
     },
     "execution_count": 325,
     "metadata": {},
     "output_type": "execute_result"
    },
    {
     "data": {
      "image/png": "[encoded data removed]",
      "text/plain": [
       "<Figure size 640x480 with 1 Axes>"
      ]
     },
     "metadata": {},
     "output_type": "display_data"
    }
   ],
   "source": [
    "sns.barplot(x=topic_occurrence_by_year.index, y=topic_occurrence_by_year['Topic_3'], color='green', label='Topic 3')"
   ]
  },
  {
   "cell_type": "code",
   "execution_count": 326,
   "id": "fdb45055",
   "metadata": {},
   "outputs": [
    {
     "data": {
      "text/plain": [
       "<AxesSubplot:xlabel='Publication Year', ylabel='Topic_4'>"
      ]
     },
     "execution_count": 326,
     "metadata": {},
     "output_type": "execute_result"
    },
    {
     "data": {
      "image/png": "[encoded data removed]",
      "text/plain": [
       "<Figure size 640x480 with 1 Axes>"
      ]
     },
     "metadata": {},
     "output_type": "display_data"
    }
   ],
   "source": [
    "sns.barplot(x=topic_occurrence_by_year.index, y=topic_occurrence_by_year['Topic_4'], color='red', label='Topic 4')"
   ]
  },
  {
   "cell_type": "code",
   "execution_count": 327,
   "id": "4327868d",
   "metadata": {},
   "outputs": [
    {
     "ename": "KeyError",
     "evalue": "'Topic_5'",
     "output_type": "error",
     "traceback": [
      "\u001b[1;31m---------------------------------------------------------------------------\u001b[0m",
      "\u001b[1;31mKeyError\u001b[0m                                  Traceback (most recent call last)",
      "\u001b[1;32m~\\anaconda3\\lib\\site-packages\\pandas\\core\\indexes\\base.py\u001b[0m in \u001b[0;36mget_loc\u001b[1;34m(self, key)\u001b[0m\n\u001b[0;32m   3790\u001b[0m         \u001b[1;32mtry\u001b[0m\u001b[1;33m:\u001b[0m\u001b[1;33m\u001b[0m\u001b[1;33m\u001b[0m\u001b[0m\n\u001b[1;32m-> 3791\u001b[1;33m             \u001b[1;32mreturn\u001b[0m \u001b[0mself\u001b[0m\u001b[1;33m.\u001b[0m\u001b[0m_engine\u001b[0m\u001b[1;33m.\u001b[0m\u001b[0mget_loc\u001b[0m\u001b[1;33m(\u001b[0m\u001b[0mcasted_key\u001b[0m\u001b[1;33m)\u001b[0m\u001b[1;33m\u001b[0m\u001b[1;33m\u001b[0m\u001b[0m\n\u001b[0m\u001b[0;32m   3792\u001b[0m         \u001b[1;32mexcept\u001b[0m \u001b[0mKeyError\u001b[0m \u001b[1;32mas\u001b[0m \u001b[0merr\u001b[0m\u001b[1;33m:\u001b[0m\u001b[1;33m\u001b[0m\u001b[1;33m\u001b[0m\u001b[0m\n",
      "\u001b[1;32mindex.pyx\u001b[0m in \u001b[0;36mpandas._libs.index.IndexEngine.get_loc\u001b[1;34m()\u001b[0m\n",
      "\u001b[1;32mindex.pyx\u001b[0m in \u001b[0;36mpandas._libs.index.IndexEngine.get_loc\u001b[1;34m()\u001b[0m\n",
      "\u001b[1;32mpandas\\_libs\\hashtable_class_helper.pxi\u001b[0m in \u001b[0;36mpandas._libs.hashtable.PyObjectHashTable.get_item\u001b[1;34m()\u001b[0m\n",
      "\u001b[1;32mpandas\\_libs\\hashtable_class_helper.pxi\u001b[0m in \u001b[0;36mpandas._libs.hashtable.PyObjectHashTable.get_item\u001b[1;34m()\u001b[0m\n",
      "\u001b[1;31mKeyError\u001b[0m: 'Topic_5'",
      "\nThe above exception was the direct cause of the following exception:\n",
      "\u001b[1;31mKeyError\u001b[0m                                  Traceback (most recent call last)",
      "\u001b[1;32m~\\AppData\\Local\\Temp\\ipykernel_28180\\3712507685.py\u001b[0m in \u001b[0;36m<module>\u001b[1;34m\u001b[0m\n\u001b[1;32m----> 1\u001b[1;33m \u001b[0msns\u001b[0m\u001b[1;33m.\u001b[0m\u001b[0mbarplot\u001b[0m\u001b[1;33m(\u001b[0m\u001b[0mx\u001b[0m\u001b[1;33m=\u001b[0m\u001b[0mtopic_occurrence_by_year\u001b[0m\u001b[1;33m.\u001b[0m\u001b[0mindex\u001b[0m\u001b[1;33m,\u001b[0m \u001b[0my\u001b[0m\u001b[1;33m=\u001b[0m\u001b[0mtopic_occurrence_by_year\u001b[0m\u001b[1;33m[\u001b[0m\u001b[1;34m'Topic_5'\u001b[0m\u001b[1;33m]\u001b[0m\u001b[1;33m,\u001b[0m \u001b[0mcolor\u001b[0m\u001b[1;33m=\u001b[0m\u001b[1;34m'purple'\u001b[0m\u001b[1;33m,\u001b[0m \u001b[0mlabel\u001b[0m\u001b[1;33m=\u001b[0m\u001b[1;34m'Topic 5'\u001b[0m\u001b[1;33m)\u001b[0m\u001b[1;33m\u001b[0m\u001b[1;33m\u001b[0m\u001b[0m\n\u001b[0m",
      "\u001b[1;32m~\\anaconda3\\lib\\site-packages\\pandas\\core\\frame.py\u001b[0m in \u001b[0;36m__getitem__\u001b[1;34m(self, key)\u001b[0m\n\u001b[0;32m   3891\u001b[0m             \u001b[1;32mif\u001b[0m \u001b[0mself\u001b[0m\u001b[1;33m.\u001b[0m\u001b[0mcolumns\u001b[0m\u001b[1;33m.\u001b[0m\u001b[0mnlevels\u001b[0m \u001b[1;33m>\u001b[0m \u001b[1;36m1\u001b[0m\u001b[1;33m:\u001b[0m\u001b[1;33m\u001b[0m\u001b[1;33m\u001b[0m\u001b[0m\n\u001b[0;32m   3892\u001b[0m                 \u001b[1;32mreturn\u001b[0m \u001b[0mself\u001b[0m\u001b[1;33m.\u001b[0m\u001b[0m_getitem_multilevel\u001b[0m\u001b[1;33m(\u001b[0m\u001b[0mkey\u001b[0m\u001b[1;33m)\u001b[0m\u001b[1;33m\u001b[0m\u001b[1;33m\u001b[0m\u001b[0m\n\u001b[1;32m-> 3893\u001b[1;33m             \u001b[0mindexer\u001b[0m \u001b[1;33m=\u001b[0m \u001b[0mself\u001b[0m\u001b[1;33m.\u001b[0m\u001b[0mcolumns\u001b[0m\u001b[1;33m.\u001b[0m\u001b[0mget_loc\u001b[0m\u001b[1;33m(\u001b[0m\u001b[0mkey\u001b[0m\u001b[1;33m)\u001b[0m\u001b[1;33m\u001b[0m\u001b[1;33m\u001b[0m\u001b[0m\n\u001b[0m\u001b[0;32m   3894\u001b[0m             \u001b[1;32mif\u001b[0m \u001b[0mis_integer\u001b[0m\u001b[1;33m(\u001b[0m\u001b[0mindexer\u001b[0m\u001b[1;33m)\u001b[0m\u001b[1;33m:\u001b[0m\u001b[1;33m\u001b[0m\u001b[1;33m\u001b[0m\u001b[0m\n\u001b[0;32m   3895\u001b[0m                 \u001b[0mindexer\u001b[0m \u001b[1;33m=\u001b[0m \u001b[1;33m[\u001b[0m\u001b[0mindexer\u001b[0m\u001b[1;33m]\u001b[0m\u001b[1;33m\u001b[0m\u001b[1;33m\u001b[0m\u001b[0m\n",
      "\u001b[1;32m~\\anaconda3\\lib\\site-packages\\pandas\\core\\indexes\\base.py\u001b[0m in \u001b[0;36mget_loc\u001b[1;34m(self, key)\u001b[0m\n\u001b[0;32m   3796\u001b[0m             ):\n\u001b[0;32m   3797\u001b[0m                 \u001b[1;32mraise\u001b[0m \u001b[0mInvalidIndexError\u001b[0m\u001b[1;33m(\u001b[0m\u001b[0mkey\u001b[0m\u001b[1;33m)\u001b[0m\u001b[1;33m\u001b[0m\u001b[1;33m\u001b[0m\u001b[0m\n\u001b[1;32m-> 3798\u001b[1;33m             \u001b[1;32mraise\u001b[0m \u001b[0mKeyError\u001b[0m\u001b[1;33m(\u001b[0m\u001b[0mkey\u001b[0m\u001b[1;33m)\u001b[0m \u001b[1;32mfrom\u001b[0m \u001b[0merr\u001b[0m\u001b[1;33m\u001b[0m\u001b[1;33m\u001b[0m\u001b[0m\n\u001b[0m\u001b[0;32m   3799\u001b[0m         \u001b[1;32mexcept\u001b[0m \u001b[0mTypeError\u001b[0m\u001b[1;33m:\u001b[0m\u001b[1;33m\u001b[0m\u001b[1;33m\u001b[0m\u001b[0m\n\u001b[0;32m   3800\u001b[0m             \u001b[1;31m# If we have a listlike key, _check_indexing_error will raise\u001b[0m\u001b[1;33m\u001b[0m\u001b[1;33m\u001b[0m\u001b[0m\n",
      "\u001b[1;31mKeyError\u001b[0m: 'Topic_5'"
     ]
    }
   ],
   "source": [
    "sns.barplot(x=topic_occurrence_by_year.index, y=topic_occurrence_by_year['Topic_5'], color='purple', label='Topic 5')"
   ]
  }
 ],
 "metadata": {
  "kernelspec": {
   "display_name": "Python 3 (ipykernel)",
   "language": "python",
   "name": "python3"
  },
  "language_info": {
   "codemirror_mode": {
    "name": "ipython",
    "version": 3
   },
   "file_extension": ".py",
   "mimetype": "text/x-python",
   "name": "python",
   "nbconvert_exporter": "python",
   "pygments_lexer": "ipython3",
   "version": "3.9.13"
  }
 },
 "nbformat": 4,
 "nbformat_minor": 5
}
